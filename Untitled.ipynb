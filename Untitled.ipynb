{
 "cells": [
  {
   "cell_type": "code",
   "execution_count": null,
   "metadata": {},
   "outputs": [],
   "source": [
    "!pip install kml2geojson\n",
    "!pip install dash==0.21.1 # The core dash backend\n",
    "!pip install dash-renderer==0.12.1 # The dash front-end\n",
    "!pip install dash-html-components==0.10.1 # HTML components\n",
    "!pip install dash-core-components==0.22.1 # Supercharged components"
   ]
  },
  {
   "cell_type": "code",
   "execution_count": 4,
   "metadata": {},
   "outputs": [],
   "source": [
    "import kml2geojson\n",
    "kml2geojson.main.convert('./Chennai-Wards-2011.kml', '.')\n",
    "kml2geojson.main.convert('./Bus Stops and Share Auto Routes.kml', '.')\n",
    "kml2geojson.main.convert('./Parks.kml', '.')"
   ]
  },
  {
   "cell_type": "code",
   "execution_count": 5,
   "metadata": {},
   "outputs": [],
   "source": [
    "import plotly.plotly as py\n",
    "import plotly.graph_objs as go\n",
    "py.sign_in('PythonAPI','ubpiol2cve')"
   ]
  },
  {
   "cell_type": "code",
   "execution_count": 6,
   "metadata": {},
   "outputs": [],
   "source": [
    "import json\n",
    "\n",
    "with open('Chennai-Wards-2011.geojson') as f:\n",
    "    chn_wards_geojson = json.load(f)\n",
    "    \n",
    "with open('Bus_Stops_and_Share_Auto_Routes.geojson') as f:\n",
    "    bus_stop_geojson = json.load(f)\n",
    "\n",
    "with open('Parks.geojson') as f:\n",
    "    parks_geojson = json.load(f)"
   ]
  },
  {
   "cell_type": "code",
   "execution_count": 7,
   "metadata": {},
   "outputs": [],
   "source": [
    "class GeoObject:\n",
    "    def __init__(self, feature_type, name, desc, geometry_type, coords):\n",
    "        self.feature_type = feature_type\n",
    "        self.name = name\n",
    "        self.desc = desc\n",
    "        self.geometry_type = geometry_type\n",
    "        self.coords = coords\n",
    "        \n",
    "    @staticmethod\n",
    "    def build_obj(dict_obj):\n",
    "        return GeoObject(\n",
    "            feature_type=dict_obj['type'],\n",
    "            name = dict_obj['properties'].get('name'),\n",
    "            desc = dict_obj['properties'].get('description'),\n",
    "            geometry_type = dict_obj['geometry']['type'],\n",
    "            coords = dict_obj['geometry']['coordinates'],\n",
    "        )\n",
    "    \n",
    "    def get_lats_and_longs(self):\n",
    "        lats = []\n",
    "        longs = []\n",
    "        if self.geometry_type == 'Point':\n",
    "            return [self.coords[1]], [self.coords[0]]\n",
    "        \n",
    "        elif self.geometry_type == 'Polygon':\n",
    "            for long_lat in self.coords[0]:\n",
    "                lats.append(long_lat[1])\n",
    "                longs.append(long_lat[0])\n",
    "            return lats, longs\n",
    "        \n",
    "        elif self.geometry_type == 'LineString':\n",
    "            for long_lat in self.coords:\n",
    "                lats.append(long_lat[1])\n",
    "                longs.append(long_lat[0])\n",
    "            return lats, longs\n",
    "        \n",
    "    @staticmethod    \n",
    "    def extract_lats_and_longs_from_list(geo_obj_list):\n",
    "        lats = []\n",
    "        longs = []\n",
    "        for geo_item in geo_obj_list:\n",
    "            lat, lon = geo_item.get_lats_and_longs()\n",
    "            lats = lats + lat\n",
    "            longs = longs + lon\n",
    "            \n",
    "        return lats, longs"
   ]
  },
  {
   "cell_type": "code",
   "execution_count": 8,
   "metadata": {},
   "outputs": [],
   "source": [
    "bus_stops = []\n",
    "chn_wards = []\n",
    "parks = []\n",
    "\n",
    "for item in bus_stop_geojson['features']:\n",
    "    bus_stops.append(GeoObject.build_obj(item))\n",
    "\n",
    "for item in chn_wards_geojson['features']:\n",
    "    chn_wards.append(GeoObject.build_obj(item))\n",
    "    \n",
    "for item in parks_geojson['features']:\n",
    "    parks.append(GeoObject.build_obj(item))"
   ]
  },
  {
   "cell_type": "code",
   "execution_count": 9,
   "metadata": {},
   "outputs": [],
   "source": [
    "chn_ward_lats, chn_wards_longs = GeoObject.extract_lats_and_longs_from_list(chn_wards)\n",
    "bus_stop_lats, bus_stop_longs = GeoObject.extract_lats_and_longs_from_list(bus_stops)\n",
    "park_lats, park_longs = GeoObject.extract_lats_and_longs_from_list(parks)"
   ]
  },
  {
   "cell_type": "code",
   "execution_count": 10,
   "metadata": {},
   "outputs": [],
   "source": [
    "import plotly.plotly as py\n",
    "import plotly.graph_objs as graph_objs\n",
    "\n",
    "mapbox_access_token = 'pk.eyJ1IjoiZGluZ3VzYWdhciIsImEiOiJjanM3MzBqbnEwc3AwNGFtczdkdHp4eHRsIn0.Sd1fkVZwvKIrx6B7_ScujA'\n",
    "\n",
    "data = [\n",
    "    graph_objs.Scattermapbox(\n",
    "        lat=chn_ward_lats,\n",
    "        lon=chn_wards_longs,\n",
    "        marker = dict(size=0,opacity=0.5)\n",
    "    ),\n",
    "     graph_objs.Scattermapbox(\n",
    "        lat=bus_stop_lats,\n",
    "        lon=bus_stop_longs,\n",
    "        mode='markers',\n",
    "        marker = dict(size=15,opacity=0.5)\n",
    "    ),\n",
    "      graph_objs.Scattermapbox(\n",
    "        lat=park_lats,\n",
    "        lon=park_longs,\n",
    "        mode='markers',\n",
    "        marker = dict(size=15,opacity=0.5)\n",
    "    )\n",
    "]\n",
    "layout = graph_objs.Layout(\n",
    "    height=600,\n",
    "    autosize=True,\n",
    "    hovermode='closest',\n",
    "    mapbox=dict(\n",
    "        layers=[\n",
    "            dict(\n",
    "                sourcetype='geojson',\n",
    "                source = chn_wards_geojson,\n",
    "                type = 'line',\n",
    "                color = 'rgba(163,22,19,0.8)'\n",
    "            ),\n",
    "           dict(\n",
    "#                 sourcetype='geojson',\n",
    "#                 source = bus_stop_geojson,\n",
    "#                 type = 'symbol',\n",
    "#                 color = 'rgba(163,22,19,0.8)'\n",
    "            ),\n",
    "\n",
    "        ],\n",
    "        accesstoken=mapbox_access_token,\n",
    "        bearing=0,\n",
    "        center=dict(\n",
    "            lat=13.00713,\n",
    "            lon=80.204086\n",
    "        ),\n",
    "        pitch=0,\n",
    "        zoom=5.2,\n",
    "        style='light'\n",
    "    ),\n",
    ")"
   ]
  },
  {
   "cell_type": "code",
   "execution_count": 11,
   "metadata": {},
   "outputs": [],
   "source": [
    "updatemenus=list([\n",
    "    # drop-down 1: map styles menu\n",
    "    # buttons containes as many dictionaries as many alternative map styles I want to offer\n",
    "    dict(\n",
    "        buttons=list([\n",
    "            dict(\n",
    "                args=['mapbox.style', 'dark'],\n",
    "                label='Dark',\n",
    "                method='relayout'\n",
    "            ),                    \n",
    "            dict(\n",
    "                args=['mapbox.style', 'light'],\n",
    "                label='Light',\n",
    "                method='relayout'\n",
    "            ),\n",
    "            dict(\n",
    "                args=['mapbox.style', 'outdoors'],\n",
    "                label='Outdoors',\n",
    "                method='relayout'\n",
    "            ),\n",
    "            dict(\n",
    "                args=['mapbox.style', 'satellite-streets'],\n",
    "                label='Satellite with Streets',\n",
    "                method='relayout'\n",
    "            )                    \n",
    "        ]),\n",
    "        # direction where I want the menu to expand when I click on it\n",
    "        direction = 'up',\n",
    "      \n",
    "        # here I specify where I want to place this drop-down on the map\n",
    "        x = 0.75,\n",
    "        xanchor = 'left',\n",
    "        y = 0.05,\n",
    "        yanchor = 'bottom',\n",
    "      \n",
    "        # specify font size and colors\n",
    "        bgcolor = '#FFFFFF',\n",
    "        bordercolor = '#000000',\n",
    "        font = dict(size=11)\n",
    "    ),    \n",
    "    \n",
    "    # drop-down 2: select type of storm event to visualize\n",
    "    dict(\n",
    "         # for each button I specify which dictionaries of my data list I want to visualize. Remember I have 7 different\n",
    "         # types of storms but I have 8 options: the first will show all of them, while from the second to the last option, only\n",
    "         # one type at the time will be shown on the map\n",
    "         buttons=list([\n",
    "            dict(label = 'All',\n",
    "                 method = 'update',\n",
    "                 args = [{'visible': [True, True, True]}]),\n",
    "             \n",
    "            dict(label = 'Ward',\n",
    "                 method = 'update',\n",
    "                 args = [{'visible': [True, False, False]}]),\n",
    "            dict(label = 'Bus Stops',\n",
    "                 method = 'update',\n",
    "                 args = [{'visible': [False, True, False]}]),\n",
    "            dict(label = 'Parks',\n",
    "                 method = 'update',\n",
    "                 args = [{'visible': [False, False, True]}]),\n",
    "          \n",
    "        ]),\n",
    "        # direction where the drop-down expands when opened\n",
    "        direction = 'down',\n",
    "        # positional arguments\n",
    "        x = 0.01,\n",
    "        xanchor = 'left',\n",
    "        y = 0.99,\n",
    "        yanchor = 'bottom',\n",
    "        # fonts and border\n",
    "        bgcolor = '#FFFFFF',\n",
    "        bordercolor = '#000000',\n",
    "        font = dict(size=11)\n",
    "    )\n",
    "])\n",
    "\n",
    "# assign the list of dictionaries to the layout dictionary\n",
    "layout['updatemenus'] = updatemenus"
   ]
  },
  {
   "cell_type": "code",
   "execution_count": 12,
   "metadata": {},
   "outputs": [
    {
     "name": "stderr",
     "output_type": "stream",
     "text": [
      "/home/deepak/Desktop/Mapify/venv/lib/python3.6/site-packages/IPython/core/display.py:689: UserWarning:\n",
      "\n",
      "Consider using IPython.display.IFrame instead\n",
      "\n"
     ]
    },
    {
     "data": {
      "text/html": [
       "<iframe id=\"igraph\" scrolling=\"no\" style=\"border:none;\" seamless=\"seamless\" src=\"https://plot.ly/~PythonAPI/4164.embed\" height=\"600px\" width=\"100%\"></iframe>"
      ],
      "text/plain": [
       "<plotly.tools.PlotlyDisplay object>"
      ]
     },
     "execution_count": 12,
     "metadata": {},
     "output_type": "execute_result"
    }
   ],
   "source": [
    "fig = dict(data=data, layout=layout)\n",
    "py.iplot(fig, filename='county-level-choropleths-python')"
   ]
  },
  {
   "cell_type": "code",
   "execution_count": 19,
   "metadata": {},
   "outputs": [
    {
     "name": "stdout",
     "output_type": "stream",
     "text": [
      "Requirement already satisfied: shapely in ./venv/lib/python3.6/site-packages (1.6.4.post2)\n",
      "Collecting numpy\n",
      "\u001b[?25l  Downloading https://files.pythonhosted.org/packages/f5/bf/4981bcbee43934f0adb8f764a1e70ab0ee5a448f6505bd04a87a2fda2a8b/numpy-1.16.1-cp36-cp36m-manylinux1_x86_64.whl (17.3MB)\n",
      "\u001b[K    100% |████████████████████████████████| 17.3MB 828kB/s \n",
      "\u001b[?25hInstalling collected packages: numpy\n",
      "Successfully installed numpy-1.16.1\n"
     ]
    }
   ],
   "source": [
    "!pip install shapely\n",
    "!pip install numpy"
   ]
  },
  {
   "cell_type": "code",
   "execution_count": null,
   "metadata": {},
   "outputs": [],
   "source": [
    "from shapely.geometry import Point\n",
    "from shapely.geometry.polygon import Polygon\n",
    "\n",
    "lons_lats_vect = np.column_stack((lons_vect, lats_vect)) # Reshape coordinates\n",
    "polygon = Polygon(lons_lats_vect) # create polygon\n",
    "point = Point(y,x) # create point\n",
    "print(polygon.contains(point)) # check if polygon contains point\n",
    "print(point.within(polygon)) # check if a point is in the polygon \n"
   ]
  },
  {
   "cell_type": "code",
   "execution_count": null,
   "metadata": {},
   "outputs": [],
   "source": []
  }
 ],
 "metadata": {
  "kernelspec": {
   "display_name": "Python 3",
   "language": "python",
   "name": "python3"
  },
  "language_info": {
   "codemirror_mode": {
    "name": "ipython",
    "version": 3
   },
   "file_extension": ".py",
   "mimetype": "text/x-python",
   "name": "python",
   "nbconvert_exporter": "python",
   "pygments_lexer": "ipython3",
   "version": "3.6.5"
  }
 },
 "nbformat": 4,
 "nbformat_minor": 2
}
